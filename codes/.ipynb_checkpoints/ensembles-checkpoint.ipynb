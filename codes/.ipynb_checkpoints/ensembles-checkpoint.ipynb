{
 "cells": [
  {
   "cell_type": "markdown",
   "metadata": {},
   "source": [
    "# import libraries and data"
   ]
  },
  {
   "cell_type": "code",
   "execution_count": 1,
   "metadata": {},
   "outputs": [
    {
     "data": {
      "text/html": [
       "<script>    requirejs.config({\n",
       "        baseUrl: 'https://cdn.jsdelivr.net/npm/',\n",
       "        paths: {'vega': 'https://cdn.jsdelivr.net/npm/vega@v3.3.1?noext', 'vega-lib': 'https://cdn.jsdelivr.net/npm/vega-lib?noext', 'vega-lite': 'https://cdn.jsdelivr.net/npm/vega-lite@v3.2.1?noext', 'vega-embed': 'https://cdn.jsdelivr.net/npm/vega-embed@3?noext'}\n",
       "    });\n",
       "    </script>"
      ],
      "text/plain": [
       "<IPython.core.display.HTML object>"
      ]
     },
     "execution_count": 1,
     "metadata": {},
     "output_type": "execute_result"
    }
   ],
   "source": [
    "import numpy as np\n",
    "import pandas as pd\n",
    "import os\n",
    "\n",
    "import matplotlib.pyplot as plt\n",
    "%matplotlib inline\n",
    "from tqdm import tqdm_notebook\n",
    "from sklearn.preprocessing import StandardScaler\n",
    "from sklearn.svm import NuSVR, SVR\n",
    "from sklearn.metrics import mean_absolute_error\n",
    "pd.options.display.precision = 15\n",
    "from sklearn.model_selection import train_test_split, KFold, cross_val_score, StratifiedKFold, GridSearchCV\n",
    "from sklearn import svm\n",
    "import lightgbm as lgb\n",
    "import xgboost as xgb\n",
    "import time\n",
    "import datetime\n",
    "from catboost import CatBoostRegressor\n",
    "from sklearn.preprocessing import LabelEncoder\n",
    "from sklearn import neighbors\n",
    "from sklearn.metrics import mean_absolute_error\n",
    "from sklearn import linear_model\n",
    "import gc\n",
    "import seaborn as sns\n",
    "import warnings\n",
    "warnings.filterwarnings(\"ignore\")\n",
    "from sklearn.ensemble import ExtraTreesRegressor, AdaBoostRegressor\n",
    "\n",
    "from scipy.signal import hilbert\n",
    "from scipy.signal import hann\n",
    "from scipy.signal import convolve\n",
    "from scipy import stats\n",
    "from sklearn.kernel_ridge import KernelRidge\n",
    "from sklearn.neighbors import NearestNeighbors\n",
    "import librosa, librosa.display\n",
    "import builtins\n",
    "from sklearn.ensemble import RandomForestRegressor\n",
    "import eli5\n",
    "import shap\n",
    "from sklearn.feature_selection import GenericUnivariateSelect, SelectPercentile, SelectKBest, f_classif, mutual_info_classif, RFE\n",
    "\n",
    "from IPython.display import HTML\n",
    "import json\n",
    "import altair as alt\n",
    "\n",
    "import artgor_utils\n",
    "\n",
    "# setting up altair\n",
    "workaround = artgor_utils.prepare_altair()\n",
    "HTML(\"\".join((\n",
    "    \"<script>\",\n",
    "    workaround,\n",
    "    \"</script>\",\n",
    ")))"
   ]
  },
  {
   "cell_type": "code",
   "execution_count": 2,
   "metadata": {},
   "outputs": [
    {
     "name": "stdout",
     "output_type": "stream",
     "text": [
      "training set shape is: (4194, 1035)\n",
      "tesing set shape is: (2624, 1035)\n",
      "traing label shape is: (4194, 1)\n"
     ]
    }
   ],
   "source": [
    "X_tr = pd.read_csv('../input/combined_train_features.csv')\n",
    "X_test = pd.read_csv('../input/combined_test_features.csv')\n",
    "y = pd.read_csv('../input/combined_y.csv')\n",
    "print('training set shape is: ' + str(X_tr.shape))\n",
    "print('tesing set shape is: ' + str(X_test.shape))\n",
    "print('traing label shape is: ' + str(y.shape))"
   ]
  },
  {
   "cell_type": "code",
   "execution_count": 3,
   "metadata": {},
   "outputs": [
    {
     "name": "stdout",
     "output_type": "stream",
     "text": [
      "training set shape after scale is: (4194, 1035)\n",
      "tesing set shape after scale is: (2624, 1035)\n"
     ]
    }
   ],
   "source": [
    "scaler = StandardScaler()\n",
    "scaler.fit(X_tr)\n",
    "X = pd.DataFrame(scaler.transform(X_tr), columns=X_tr.columns)\n",
    "X_test = pd.DataFrame(scaler.transform(X_test), columns=X_test.columns)\n",
    "print('training set shape after scale is: ' + str(X.shape))\n",
    "print('tesing set shape after scale is: ' + str(X_test.shape))"
   ]
  },
  {
   "cell_type": "code",
   "execution_count": 4,
   "metadata": {},
   "outputs": [],
   "source": [
    "n_fold = 10\n",
    "folds = KFold(n_splits=n_fold, shuffle=True, random_state=2021)"
   ]
  },
  {
   "cell_type": "markdown",
   "metadata": {},
   "source": [
    "# models"
   ]
  },
  {
   "cell_type": "code",
   "execution_count": 5,
   "metadata": {},
   "outputs": [],
   "source": [
    "params = {\n",
    "    'num_leaves': 128,\n",
    "    'min_child_samples': 79,\n",
    "    'objective': 'gamma',\n",
    "    'max_depth': -1,\n",
    "    'learning_rate': 0.03,\n",
    "    \"boosting_type\": \"gbdt\",\n",
    "    \"subsample_freq\": 5,\n",
    "    \"subsample\": 0.85,\n",
    "    \"bagging_seed\": 11,\n",
    "    \"metric\": 'mae',\n",
    "    \"verbosity\": -1,\n",
    "    'reg_alpha': 0.13,\n",
    "    'reg_lambda': 0.36,\n",
    "    'colsample_bytree': 1.0\n",
    "}"
   ]
  },
  {
   "cell_type": "markdown",
   "metadata": {},
   "source": [
    "## 1. random forest"
   ]
  },
  {
   "cell_type": "code",
   "execution_count": 6,
   "metadata": {},
   "outputs": [
    {
     "name": "stdout",
     "output_type": "stream",
     "text": [
      "Best score: -2.089985126061237\n",
      "Best parameters: {'max_depth': 10, 'n_estimators': 160}\n",
      "CPU times: user 3min, sys: 128 ms, total: 3min\n",
      "Wall time: 6min 46s\n"
     ]
    }
   ],
   "source": [
    "%%time\n",
    "rfr = RandomForestRegressor()\n",
    "\n",
    "# parameter_grid = {'n_estimators': [30, 50, 80, 100, 120, 160, 200], 'max_depth': [5, 10, 15]}\n",
    "parameter_grid = {'n_estimators': [160], 'max_depth': [10]}\n",
    "\n",
    "grid_search = GridSearchCV(rfr,\n",
    "                           param_grid=parameter_grid,\n",
    "                           cv=folds,\n",
    "                           scoring='neg_mean_absolute_error',\n",
    "                           n_jobs=12)\n",
    "grid_search.fit(X, y)\n",
    "print('Best score: {}'.format(grid_search.best_score_))\n",
    "print('Best parameters: {}'.format(grid_search.best_params_))"
   ]
  },
  {
   "cell_type": "code",
   "execution_count": 7,
   "metadata": {},
   "outputs": [
    {
     "name": "stdout",
     "output_type": "stream",
     "text": [
      "Fold 1 started at Thu May 30 16:49:59 2019\n",
      "Fold 0. mae: 2.1483.\n",
      "\n",
      "Fold 2 started at Thu May 30 16:52:40 2019\n",
      "Fold 1. mae: 2.0914.\n",
      "\n",
      "Fold 3 started at Thu May 30 16:55:21 2019\n",
      "Fold 2. mae: 2.0947.\n",
      "\n",
      "Fold 4 started at Thu May 30 16:58:01 2019\n",
      "Fold 3. mae: 1.9724.\n",
      "\n",
      "Fold 5 started at Thu May 30 17:00:41 2019\n",
      "Fold 4. mae: 2.1858.\n",
      "\n",
      "Fold 6 started at Thu May 30 17:03:22 2019\n",
      "Fold 5. mae: 2.1440.\n",
      "\n",
      "Fold 7 started at Thu May 30 17:06:05 2019\n",
      "Fold 6. mae: 1.9856.\n",
      "\n",
      "Fold 8 started at Thu May 30 17:08:45 2019\n",
      "Fold 7. mae: 2.1972.\n",
      "\n",
      "Fold 9 started at Thu May 30 17:11:25 2019\n",
      "Fold 8. mae: 1.9736.\n",
      "\n",
      "Fold 10 started at Thu May 30 17:14:05 2019\n",
      "Fold 9. mae: 2.1634.\n",
      "\n",
      "CV mean score: 2.0956, std: 0.0839.\n"
     ]
    }
   ],
   "source": [
    "rfr = RandomForestRegressor(**grid_search.best_params_)\n",
    "result_dict_rfr = artgor_utils.train_model_regression(X,\n",
    "                                                      X_test,\n",
    "                                                      y,\n",
    "                                                      params=params,\n",
    "                                                      folds=folds,\n",
    "                                                      model_type='sklearn',\n",
    "                                                      model=rfr)"
   ]
  },
  {
   "cell_type": "code",
   "execution_count": null,
   "metadata": {},
   "outputs": [],
   "source": []
  },
  {
   "cell_type": "markdown",
   "metadata": {},
   "source": [
    "## 2. knn"
   ]
  },
  {
   "cell_type": "code",
   "execution_count": 8,
   "metadata": {},
   "outputs": [
    {
     "name": "stdout",
     "output_type": "stream",
     "text": [
      "Best score: -2.2034898574399366\n",
      "Best parameters: {'n_neighbors': 80, 'weights': 'distance'}\n",
      "CPU times: user 184 ms, sys: 100 ms, total: 284 ms\n",
      "Wall time: 47.7 s\n"
     ]
    }
   ],
   "source": [
    "%%time\n",
    "knn = neighbors.KNeighborsRegressor()\n",
    "\n",
    "# parameter_grid = {'n_neighbors': [10, 40, 60, 80, 100, 150],\n",
    "#                 'weights':['uniform', 'distance']\n",
    "# }\n",
    "parameter_grid = {'n_neighbors': [80],\n",
    "                 'weights':['distance']\n",
    "                 }\n",
    "\n",
    "grid_search = GridSearchCV(knn,\n",
    "                           param_grid=parameter_grid,\n",
    "                           cv=folds,\n",
    "                           scoring='neg_mean_absolute_error',\n",
    "                           n_jobs=12)\n",
    "grid_search.fit(X, y)\n",
    "print('Best score: {}'.format(grid_search.best_score_))\n",
    "print('Best parameters: {}'.format(grid_search.best_params_))"
   ]
  },
  {
   "cell_type": "code",
   "execution_count": 9,
   "metadata": {},
   "outputs": [
    {
     "name": "stdout",
     "output_type": "stream",
     "text": [
      "Fold 1 started at Thu May 30 17:17:33 2019\n",
      "Fold 0. mae: 2.2478.\n",
      "\n",
      "Fold 2 started at Thu May 30 17:17:48 2019\n",
      "Fold 1. mae: 2.1959.\n",
      "\n",
      "Fold 3 started at Thu May 30 17:18:02 2019\n",
      "Fold 2. mae: 2.1970.\n",
      "\n",
      "Fold 4 started at Thu May 30 17:18:17 2019\n",
      "Fold 3. mae: 2.0981.\n",
      "\n",
      "Fold 5 started at Thu May 30 17:18:31 2019\n",
      "Fold 4. mae: 2.3267.\n",
      "\n",
      "Fold 6 started at Thu May 30 17:18:46 2019\n",
      "Fold 5. mae: 2.3050.\n",
      "\n",
      "Fold 7 started at Thu May 30 17:19:00 2019\n",
      "Fold 6. mae: 2.1228.\n",
      "\n",
      "Fold 8 started at Thu May 30 17:19:15 2019\n",
      "Fold 7. mae: 2.2339.\n",
      "\n",
      "Fold 9 started at Thu May 30 17:19:29 2019\n",
      "Fold 8. mae: 2.0347.\n",
      "\n",
      "Fold 10 started at Thu May 30 17:19:44 2019\n",
      "Fold 9. mae: 2.2731.\n",
      "\n",
      "CV mean score: 2.2035, std: 0.0891.\n"
     ]
    }
   ],
   "source": [
    "knn = neighbors.KNeighborsRegressor(**grid_search.best_params_)\n",
    "result_dict_knn = artgor_utils.train_model_regression(X,\n",
    "                                                      X_test,\n",
    "                                                      y,\n",
    "                                                      params=params,\n",
    "                                                      folds=folds,\n",
    "                                                      model_type='sklearn',\n",
    "                                                      model=knn)"
   ]
  },
  {
   "cell_type": "code",
   "execution_count": null,
   "metadata": {},
   "outputs": [],
   "source": []
  },
  {
   "cell_type": "markdown",
   "metadata": {},
   "source": [
    "## 3. extra tree"
   ]
  },
  {
   "cell_type": "code",
   "execution_count": 10,
   "metadata": {},
   "outputs": [
    {
     "name": "stdout",
     "output_type": "stream",
     "text": [
      "Best score: -2.0908448956599197\n",
      "Best parameters: {'max_depth': 10, 'n_estimators': 1000}\n",
      "CPU times: user 18min 47s, sys: 36 ms, total: 18min 47s\n",
      "Wall time: 42min 23s\n"
     ]
    }
   ],
   "source": [
    "%%time\n",
    "etr = ExtraTreesRegressor()\n",
    "\n",
    "# parameter_grid = {\n",
    "#     'n_estimators': [500, 700, 1000, 1300],\n",
    "#     'max_depth': [5, 10, 15]\n",
    "# }\n",
    "parameter_grid = {\n",
    "    'n_estimators': [1000],\n",
    "    'max_depth': [10]\n",
    "}\n",
    "\n",
    "grid_search = GridSearchCV(rfr,\n",
    "                           param_grid=parameter_grid,\n",
    "                           cv=folds,\n",
    "                           scoring='neg_mean_absolute_error',\n",
    "                           n_jobs=12)\n",
    "grid_search.fit(X, y)\n",
    "print('Best score: {}'.format(grid_search.best_score_))\n",
    "print('Best parameters: {}'.format(grid_search.best_params_))"
   ]
  },
  {
   "cell_type": "code",
   "execution_count": 11,
   "metadata": {},
   "outputs": [
    {
     "name": "stdout",
     "output_type": "stream",
     "text": [
      "Fold 1 started at Thu May 30 18:02:22 2019\n",
      "Fold 0. mae: 2.1660.\n",
      "\n",
      "Fold 2 started at Thu May 30 18:04:58 2019\n",
      "Fold 1. mae: 2.0866.\n",
      "\n",
      "Fold 3 started at Thu May 30 18:07:35 2019\n",
      "Fold 2. mae: 2.0671.\n",
      "\n",
      "Fold 4 started at Thu May 30 18:10:13 2019\n",
      "Fold 3. mae: 1.9695.\n",
      "\n",
      "Fold 5 started at Thu May 30 18:12:50 2019\n",
      "Fold 4. mae: 2.2020.\n",
      "\n",
      "Fold 6 started at Thu May 30 18:15:26 2019\n",
      "Fold 5. mae: 2.1567.\n",
      "\n",
      "Fold 7 started at Thu May 30 18:18:03 2019\n",
      "Fold 6. mae: 1.9492.\n",
      "\n",
      "Fold 8 started at Thu May 30 18:20:40 2019\n",
      "Fold 7. mae: 2.1561.\n",
      "\n",
      "Fold 9 started at Thu May 30 18:23:16 2019\n",
      "Fold 8. mae: 1.9622.\n",
      "\n",
      "Fold 10 started at Thu May 30 18:25:54 2019\n",
      "Fold 9. mae: 2.1563.\n",
      "\n",
      "CV mean score: 2.0872, std: 0.0909.\n"
     ]
    }
   ],
   "source": [
    "etr = ExtraTreesRegressor(**grid_search.best_params_)\n",
    "result_dict_etr = artgor_utils.train_model_regression(X,\n",
    "                                                      X_test,\n",
    "                                                      y,\n",
    "                                                      params=params,\n",
    "                                                      folds=folds,\n",
    "                                                      model_type='sklearn',\n",
    "                                                      model=etr)"
   ]
  },
  {
   "cell_type": "code",
   "execution_count": null,
   "metadata": {},
   "outputs": [],
   "source": []
  },
  {
   "cell_type": "markdown",
   "metadata": {},
   "source": [
    "## 4. ada boost"
   ]
  },
  {
   "cell_type": "code",
   "execution_count": 12,
   "metadata": {},
   "outputs": [
    {
     "name": "stdout",
     "output_type": "stream",
     "text": [
      "Best score: -2.1296009860910807\n",
      "Best parameters: {'learning_rate': 0.03, 'n_estimators': 30}\n",
      "CPU times: user 19.3 s, sys: 192 ms, total: 19.5 s\n",
      "Wall time: 44.8 s\n"
     ]
    }
   ],
   "source": [
    "%%time\n",
    "adr = AdaBoostRegressor()\n",
    "\n",
    "# parameter_grid = {\n",
    "#     'n_estimators': [10, 50, 80, 100, 200],\n",
    "#      'learning_rate':[0.01, 0.03, 0.1, 0.3]\n",
    "# }\n",
    "\n",
    "parameter_grid = {\n",
    "    'n_estimators': [30],\n",
    "    'learning_rate':[0.03]\n",
    "}\n",
    "\n",
    "grid_search = GridSearchCV(adr,\n",
    "                           param_grid=parameter_grid,\n",
    "                           cv=folds,\n",
    "                           scoring='neg_mean_absolute_error',\n",
    "                           n_jobs=12)\n",
    "grid_search.fit(X, y)\n",
    "print('Best score: {}'.format(grid_search.best_score_))\n",
    "print('Best parameters: {}'.format(grid_search.best_params_))"
   ]
  },
  {
   "cell_type": "code",
   "execution_count": 13,
   "metadata": {},
   "outputs": [
    {
     "name": "stdout",
     "output_type": "stream",
     "text": [
      "Fold 1 started at Thu May 30 18:29:17 2019\n",
      "Fold 0. mae: 2.1964.\n",
      "\n",
      "Fold 2 started at Thu May 30 18:29:34 2019\n",
      "Fold 1. mae: 2.1197.\n",
      "\n",
      "Fold 3 started at Thu May 30 18:29:51 2019\n",
      "Fold 2. mae: 2.1235.\n",
      "\n",
      "Fold 4 started at Thu May 30 18:30:08 2019\n",
      "Fold 3. mae: 2.0055.\n",
      "\n",
      "Fold 5 started at Thu May 30 18:30:25 2019\n",
      "Fold 4. mae: 2.2328.\n",
      "\n",
      "Fold 6 started at Thu May 30 18:30:42 2019\n",
      "Fold 5. mae: 2.1788.\n",
      "\n",
      "Fold 7 started at Thu May 30 18:31:00 2019\n",
      "Fold 6. mae: 2.0437.\n",
      "\n",
      "Fold 8 started at Thu May 30 18:31:17 2019\n",
      "Fold 7. mae: 2.2406.\n",
      "\n",
      "Fold 9 started at Thu May 30 18:31:34 2019\n",
      "Fold 8. mae: 1.9937.\n",
      "\n",
      "Fold 10 started at Thu May 30 18:31:51 2019\n",
      "Fold 9. mae: 2.1872.\n",
      "\n",
      "CV mean score: 2.1322, std: 0.0863.\n"
     ]
    }
   ],
   "source": [
    "adr = AdaBoostRegressor(**grid_search.best_params_)\n",
    "result_dict_adr = artgor_utils.train_model_regression(X,\n",
    "                                                      X_test,\n",
    "                                                      y,\n",
    "                                                      params=params,\n",
    "                                                      folds=folds,\n",
    "                                                      model_type='sklearn',\n",
    "                                                      model=adr)"
   ]
  },
  {
   "cell_type": "code",
   "execution_count": null,
   "metadata": {},
   "outputs": [],
   "source": []
  },
  {
   "cell_type": "markdown",
   "metadata": {},
   "source": [
    "## 5. NuSVR"
   ]
  },
  {
   "cell_type": "code",
   "execution_count": 14,
   "metadata": {},
   "outputs": [
    {
     "name": "stdout",
     "output_type": "stream",
     "text": [
      "Best score: -2.1063017609676433\n",
      "Best parameters: {'C': 3, 'gamma': 'auto', 'nu': 0.7, 'tol': 0.001}\n",
      "CPU times: user 16 s, sys: 68 ms, total: 16.1 s\n",
      "Wall time: 1min 20s\n"
     ]
    }
   ],
   "source": [
    "%%time\n",
    "nusvr = NuSVR()\n",
    "\n",
    "# parameter_grid = {\n",
    "#     'gamma': ['scale','auto'],\n",
    "#     'nu': [0.5, 0.6, 0.7,0.8, 0.9],\n",
    "#     'C': [1, 3, 5, 7,10],\n",
    "#     'tol': [0.01, 0.003, 0.001]\n",
    "# }\n",
    "parameter_grid = {\n",
    "    'gamma': ['auto'],\n",
    "    'nu': [0.7],\n",
    "    'C': [3],\n",
    "    'tol': [0.001]\n",
    "}\n",
    "\n",
    "grid_search = GridSearchCV(nusvr,\n",
    "                           param_grid=parameter_grid,\n",
    "                           cv=folds,\n",
    "                           scoring='neg_mean_absolute_error',\n",
    "                           n_jobs=12)\n",
    "grid_search.fit(X, y)\n",
    "print('Best score: {}'.format(grid_search.best_score_))\n",
    "print('Best parameters: {}'.format(grid_search.best_params_))"
   ]
  },
  {
   "cell_type": "code",
   "execution_count": 15,
   "metadata": {},
   "outputs": [
    {
     "name": "stdout",
     "output_type": "stream",
     "text": [
      "Fold 1 started at Thu May 30 18:33:29 2019\n",
      "Fold 0. mae: 2.1572.\n",
      "\n",
      "Fold 2 started at Thu May 30 18:33:51 2019\n",
      "Fold 1. mae: 2.1063.\n",
      "\n",
      "Fold 3 started at Thu May 30 18:34:14 2019\n",
      "Fold 2. mae: 2.1588.\n",
      "\n",
      "Fold 4 started at Thu May 30 18:34:36 2019\n",
      "Fold 3. mae: 2.0197.\n",
      "\n",
      "Fold 5 started at Thu May 30 18:34:59 2019\n",
      "Fold 4. mae: 2.2068.\n",
      "\n",
      "Fold 6 started at Thu May 30 18:35:21 2019\n",
      "Fold 5. mae: 2.1543.\n",
      "\n",
      "Fold 7 started at Thu May 30 18:35:43 2019\n",
      "Fold 6. mae: 1.9890.\n",
      "\n",
      "Fold 8 started at Thu May 30 18:36:06 2019\n",
      "Fold 7. mae: 2.1454.\n",
      "\n",
      "Fold 9 started at Thu May 30 18:36:28 2019\n",
      "Fold 8. mae: 1.9937.\n",
      "\n",
      "Fold 10 started at Thu May 30 18:36:50 2019\n",
      "Fold 9. mae: 2.1318.\n",
      "\n",
      "CV mean score: 2.1063, std: 0.0734.\n"
     ]
    }
   ],
   "source": [
    "nusvr = NuSVR(**grid_search.best_params_)\n",
    "result_dict_nusvr = artgor_utils.train_model_regression(X,\n",
    "                                                        X_test,\n",
    "                                                        y,\n",
    "                                                        params=params,\n",
    "                                                        folds=folds,\n",
    "                                                        model_type='sklearn',\n",
    "                                                        model=nusvr)"
   ]
  },
  {
   "cell_type": "code",
   "execution_count": null,
   "metadata": {},
   "outputs": [],
   "source": []
  },
  {
   "cell_type": "code",
   "execution_count": 16,
   "metadata": {},
   "outputs": [
    {
     "data": {
      "image/png": "[encoded data removed]",
      "text/plain": [
       "<Figure size 864x576 with 1 Axes>"
      ]
     },
     "metadata": {
      "needs_background": "light"
     },
     "output_type": "display_data"
    }
   ],
   "source": [
    "plt.figure(figsize=(12, 8));\n",
    "scores_df = pd.DataFrame({'RandomForestRegressor': result_dict_rfr['scores']})\n",
    "scores_df['KNN'] = result_dict_knn['scores']\n",
    "scores_df['ExtraTreesRegressor'] = result_dict_etr['scores']\n",
    "scores_df['AdaBoostRegressor'] = result_dict_adr['scores']\n",
    "scores_df['NuSVR'] = result_dict_nusvr['scores']\n",
    "\n",
    "sns.boxplot(data=scores_df);\n",
    "plt.xticks(rotation=45);"
   ]
  },
  {
   "cell_type": "markdown",
   "metadata": {},
   "source": [
    "---"
   ]
  },
  {
   "cell_type": "markdown",
   "metadata": {},
   "source": [
    "## 6. light gbm"
   ]
  },
  {
   "cell_type": "code",
   "execution_count": 17,
   "metadata": {},
   "outputs": [
    {
     "name": "stdout",
     "output_type": "stream",
     "text": [
      "Best score: -2.0575531494961887\n",
      "Best parameters: {'bagging_seed': 11, 'boosting_type': 'gbdt', 'colsample_bytree': 0.2, 'learning_rate': 0.03, 'max_depth': -1, 'metric': 'mae', 'min_child_samples': 64, 'num_leaves': 128, 'objective': 'gamma', 'reg_alpha': 0.13, 'reg_lambda': 0.36, 'subsample': 0.85, 'subsample_freq': 5, 'verbosity': -1}\n",
      "CPU times: user 9.09 s, sys: 436 ms, total: 9.52 s\n",
      "Wall time: 7.06 s\n"
     ]
    }
   ],
   "source": [
    "%%time\n",
    "lightgmb = lgb.LGBMRegressor()\n",
    "\n",
    "# parameter_grid = {\n",
    "#     'num_leaves': [64, 128, 256],\n",
    "#     'min_child_samples': [32, 64],\n",
    "#     'objective': ['gamma'],\n",
    "#     'max_depth': [-1],\n",
    "#     'learning_rate': [0.003, 0.01, 0.03, 0.1],\n",
    "#     \"boosting_type\": ['gbdt'],\n",
    "#     \"subsample_freq\": [5],\n",
    "#     \"subsample\": [0.85],\n",
    "#     \"bagging_seed\": [11],\n",
    "#     \"metric\": ['mae'],\n",
    "#     \"verbosity\": [-1],\n",
    "#     'reg_alpha': [0.13],\n",
    "#     'reg_lambda': [0.36],\n",
    "#     'colsample_bytree': [0.2]\n",
    "# }\n",
    "\n",
    "parameter_grid = {\n",
    "    'num_leaves': [128],\n",
    "    'min_child_samples': [64],\n",
    "    'objective': ['gamma'],\n",
    "    'max_depth': [-1],\n",
    "    'learning_rate': [0.03],\n",
    "    \"boosting_type\": ['gbdt'],\n",
    "    \"subsample_freq\": [5],\n",
    "    \"subsample\": [0.85],\n",
    "    \"bagging_seed\": [11],\n",
    "    \"metric\": ['mae'],\n",
    "    \"verbosity\": [-1],\n",
    "    'reg_alpha': [0.13],\n",
    "    'reg_lambda': [0.36],\n",
    "    'colsample_bytree': [0.2]\n",
    "}\n",
    "\n",
    "grid_search = GridSearchCV(lightgmb,\n",
    "                           param_grid=parameter_grid,\n",
    "                           cv=folds,\n",
    "                           scoring='neg_mean_absolute_error',\n",
    "                           n_jobs=12)\n",
    "grid_search.fit(X, y)\n",
    "print('Best score: {}'.format(grid_search.best_score_))\n",
    "print('Best parameters: {}'.format(grid_search.best_params_))"
   ]
  },
  {
   "cell_type": "code",
   "execution_count": 18,
   "metadata": {
    "scrolled": true
   },
   "outputs": [
    {
     "name": "stdout",
     "output_type": "stream",
     "text": [
      "Fold 1 started at Thu May 30 18:37:20 2019\n",
      "Training until validation scores don't improve for 200 rounds.\n",
      "Early stopping, best iteration is:\n",
      "[129]\ttraining's l1: 1.42098\tvalid_1's l1: 2.05417\n",
      "Fold 2 started at Thu May 30 18:37:22 2019\n",
      "Training until validation scores don't improve for 200 rounds.\n",
      "Early stopping, best iteration is:\n",
      "[131]\ttraining's l1: 1.41561\tvalid_1's l1: 2.01778\n",
      "Fold 3 started at Thu May 30 18:37:24 2019\n",
      "Training until validation scores don't improve for 200 rounds.\n",
      "Early stopping, best iteration is:\n",
      "[147]\ttraining's l1: 1.35135\tvalid_1's l1: 2.01768\n",
      "Fold 4 started at Thu May 30 18:37:26 2019\n",
      "Training until validation scores don't improve for 200 rounds.\n",
      "Early stopping, best iteration is:\n",
      "[98]\ttraining's l1: 1.55784\tvalid_1's l1: 1.97334\n",
      "Fold 5 started at Thu May 30 18:37:28 2019\n",
      "Training until validation scores don't improve for 200 rounds.\n",
      "Early stopping, best iteration is:\n",
      "[188]\ttraining's l1: 1.21192\tvalid_1's l1: 2.1435\n",
      "Fold 6 started at Thu May 30 18:37:30 2019\n",
      "Training until validation scores don't improve for 200 rounds.\n",
      "Early stopping, best iteration is:\n",
      "[105]\ttraining's l1: 1.51777\tvalid_1's l1: 2.10661\n",
      "Fold 7 started at Thu May 30 18:37:32 2019\n",
      "Training until validation scores don't improve for 200 rounds.\n",
      "Early stopping, best iteration is:\n",
      "[120]\ttraining's l1: 1.45881\tvalid_1's l1: 1.99064\n",
      "Fold 8 started at Thu May 30 18:37:34 2019\n",
      "Training until validation scores don't improve for 200 rounds.\n",
      "Early stopping, best iteration is:\n",
      "[411]\ttraining's l1: 0.730379\tvalid_1's l1: 2.09022\n",
      "Fold 9 started at Thu May 30 18:37:37 2019\n",
      "Training until validation scores don't improve for 200 rounds.\n",
      "Early stopping, best iteration is:\n",
      "[105]\ttraining's l1: 1.5276\tvalid_1's l1: 1.93728\n",
      "Fold 10 started at Thu May 30 18:37:38 2019\n",
      "Training until validation scores don't improve for 200 rounds.\n",
      "Early stopping, best iteration is:\n",
      "[145]\ttraining's l1: 1.35399\tvalid_1's l1: 2.14011\n",
      "CV mean score: 2.0471, std: 0.0677.\n"
     ]
    }
   ],
   "source": [
    "# lightgmb = lgb.LGBMRegressor(**grid_search.best_params_)\n",
    "result_dict_lgb = artgor_utils.train_model_regression(\n",
    "    X=X,\n",
    "    X_test=X_test,\n",
    "    y=y,\n",
    "    params=grid_search.best_params_,\n",
    "    folds=folds,\n",
    "    model_type='lgb',\n",
    "    eval_metric='mae',\n",
    "    plot_feature_importance=False)"
   ]
  },
  {
   "cell_type": "code",
   "execution_count": null,
   "metadata": {},
   "outputs": [],
   "source": []
  },
  {
   "cell_type": "markdown",
   "metadata": {},
   "source": [
    "## 7. xgb"
   ]
  },
  {
   "cell_type": "code",
   "execution_count": 19,
   "metadata": {},
   "outputs": [
    {
     "name": "stdout",
     "output_type": "stream",
     "text": [
      "Fold 1 started at Thu May 30 18:37:40 2019\n",
      "[0]\ttrain-mae:5.06203\tvalid_data-mae:5.06651\n",
      "Multiple eval metrics have been passed: 'valid_data-mae' will be used for early stopping.\n",
      "\n",
      "Will train until valid_data-mae hasn't improved in 200 rounds.\n",
      "Stopping. Best iteration:\n",
      "[81]\ttrain-mae:0.591698\tvalid_data-mae:2.06221\n",
      "\n",
      "Fold 2 started at Thu May 30 18:38:19 2019\n",
      "[0]\ttrain-mae:5.0633\tvalid_data-mae:5.06357\n",
      "Multiple eval metrics have been passed: 'valid_data-mae' will be used for early stopping.\n",
      "\n",
      "Will train until valid_data-mae hasn't improved in 200 rounds.\n",
      "Stopping. Best iteration:\n",
      "[136]\ttrain-mae:0.157582\tvalid_data-mae:2.09388\n",
      "\n",
      "Fold 3 started at Thu May 30 18:39:05 2019\n",
      "[0]\ttrain-mae:5.08257\tvalid_data-mae:4.89552\n",
      "Multiple eval metrics have been passed: 'valid_data-mae' will be used for early stopping.\n",
      "\n",
      "Will train until valid_data-mae hasn't improved in 200 rounds.\n",
      "Stopping. Best iteration:\n",
      "[88]\ttrain-mae:0.493632\tvalid_data-mae:2.08026\n",
      "\n",
      "Fold 4 started at Thu May 30 18:39:45 2019\n",
      "[0]\ttrain-mae:5.04731\tvalid_data-mae:5.21983\n",
      "Multiple eval metrics have been passed: 'valid_data-mae' will be used for early stopping.\n",
      "\n",
      "Will train until valid_data-mae hasn't improved in 200 rounds.\n",
      "Stopping. Best iteration:\n",
      "[169]\ttrain-mae:0.081334\tvalid_data-mae:2.00573\n",
      "\n",
      "Fold 5 started at Thu May 30 18:40:34 2019\n",
      "[0]\ttrain-mae:5.04954\tvalid_data-mae:5.19993\n",
      "Multiple eval metrics have been passed: 'valid_data-mae' will be used for early stopping.\n",
      "\n",
      "Will train until valid_data-mae hasn't improved in 200 rounds.\n",
      "Stopping. Best iteration:\n",
      "[117]\ttrain-mae:0.24353\tvalid_data-mae:2.17575\n",
      "\n",
      "Fold 6 started at Thu May 30 18:41:18 2019\n",
      "[0]\ttrain-mae:5.08684\tvalid_data-mae:4.846\n",
      "Multiple eval metrics have been passed: 'valid_data-mae' will be used for early stopping.\n",
      "\n",
      "Will train until valid_data-mae hasn't improved in 200 rounds.\n",
      "Stopping. Best iteration:\n",
      "[88]\ttrain-mae:0.495588\tvalid_data-mae:2.14178\n",
      "\n",
      "Fold 7 started at Thu May 30 18:41:59 2019\n",
      "[0]\ttrain-mae:5.06678\tvalid_data-mae:5.04048\n",
      "Multiple eval metrics have been passed: 'valid_data-mae' will be used for early stopping.\n",
      "\n",
      "Will train until valid_data-mae hasn't improved in 200 rounds.\n",
      "Stopping. Best iteration:\n",
      "[230]\ttrain-mae:0.029076\tvalid_data-mae:2.01157\n",
      "\n",
      "Fold 8 started at Thu May 30 18:42:53 2019\n",
      "[0]\ttrain-mae:5.08434\tvalid_data-mae:4.88135\n",
      "Multiple eval metrics have been passed: 'valid_data-mae' will be used for early stopping.\n",
      "\n",
      "Will train until valid_data-mae hasn't improved in 200 rounds.\n",
      "Stopping. Best iteration:\n",
      "[88]\ttrain-mae:0.494976\tvalid_data-mae:2.17134\n",
      "\n",
      "Fold 9 started at Thu May 30 18:43:33 2019\n",
      "[0]\ttrain-mae:5.05279\tvalid_data-mae:5.16049\n",
      "Multiple eval metrics have been passed: 'valid_data-mae' will be used for early stopping.\n",
      "\n",
      "Will train until valid_data-mae hasn't improved in 200 rounds.\n",
      "Stopping. Best iteration:\n",
      "[179]\ttrain-mae:0.066799\tvalid_data-mae:1.99204\n",
      "\n",
      "Fold 10 started at Thu May 30 18:44:23 2019\n",
      "[0]\ttrain-mae:5.03145\tvalid_data-mae:5.35903\n",
      "Multiple eval metrics have been passed: 'valid_data-mae' will be used for early stopping.\n",
      "\n",
      "Will train until valid_data-mae hasn't improved in 200 rounds.\n",
      "[500]\ttrain-mae:0.000702\tvalid_data-mae:2.15317\n",
      "Stopping. Best iteration:\n",
      "[408]\ttrain-mae:0.002468\tvalid_data-mae:2.15311\n",
      "\n",
      "CV mean score: 2.0888, std: 0.0666.\n"
     ]
    }
   ],
   "source": [
    "xgb_params = {\n",
    "    'eta': 0.03,\n",
    "    'max_depth': 16,\n",
    "    'subsample': 0.85,\n",
    "    'colsample_bytree': 0.3,\n",
    "    'objective': 'gpu:reg:linear',\n",
    "    'eval_metric': 'mae',\n",
    "    'silent': True,\n",
    "    'tree_method': 'gpu_hist'\n",
    "}\n",
    "result_dict_xgb = artgor_utils.train_model_regression(X=X,\n",
    "                                                      X_test=X_test,\n",
    "                                                      y=y,\n",
    "                                                      params=xgb_params,\n",
    "                                                      folds=folds,\n",
    "                                                      model_type='xgb')"
   ]
  },
  {
   "cell_type": "code",
   "execution_count": null,
   "metadata": {},
   "outputs": [],
   "source": []
  },
  {
   "cell_type": "markdown",
   "metadata": {},
   "source": [
    "## 8. cat boost"
   ]
  },
  {
   "cell_type": "code",
   "execution_count": 20,
   "metadata": {},
   "outputs": [
    {
     "name": "stdout",
     "output_type": "stream",
     "text": [
      "Fold 1 started at Thu May 30 18:45:26 2019\n",
      "Fold 2 started at Thu May 30 18:56:49 2019\n",
      "Fold 3 started at Thu May 30 19:08:12 2019\n",
      "Fold 4 started at Thu May 30 19:19:21 2019\n",
      "Fold 5 started at Thu May 30 19:30:49 2019\n",
      "Fold 6 started at Thu May 30 19:42:13 2019\n",
      "Fold 7 started at Thu May 30 19:53:36 2019\n",
      "Fold 8 started at Thu May 30 20:04:56 2019\n",
      "Fold 9 started at Thu May 30 20:16:16 2019\n",
      "Fold 10 started at Thu May 30 20:27:40 2019\n",
      "CV mean score: 2.0314, std: 0.0654.\n"
     ]
    }
   ],
   "source": [
    "params = {}\n",
    "result_dict_cat = artgor_utils.train_model_regression(X=X,\n",
    "                                                     X_test=X_test,\n",
    "                                                     y=y,\n",
    "                                                     params=params,\n",
    "                                                     folds=folds,\n",
    "                                                     model_type='cat')"
   ]
  },
  {
   "cell_type": "code",
   "execution_count": null,
   "metadata": {},
   "outputs": [],
   "source": []
  },
  {
   "cell_type": "markdown",
   "metadata": {},
   "source": [
    "---"
   ]
  },
  {
   "cell_type": "code",
   "execution_count": 21,
   "metadata": {},
   "outputs": [
    {
     "name": "stdout",
     "output_type": "stream",
     "text": [
      "              time_to_failure\n",
      "seg_id                       \n",
      "seg_00030f  4.240766411505292\n",
      "seg_0012b5  4.869442320487957\n",
      "seg_00184e  5.880339808919488\n",
      "seg_003339  8.708612305854890\n",
      "seg_0042cc  6.948965809350439\n"
     ]
    }
   ],
   "source": [
    "submission = pd.read_csv('../input/sample_submission.csv', index_col='seg_id')\n",
    "submission['time_to_failure'] = (\n",
    "    result_dict_rfr['prediction'] + result_dict_knn['prediction'] +\n",
    "    result_dict_etr['prediction'] + result_dict_adr['prediction'] +\n",
    "    result_dict_nusvr['prediction'] + result_dict_lgb['prediction'] +\n",
    "    result_dict_xgb['prediction'] + result_dict_cat['prediction']) / 8\n",
    "print(submission.head())\n",
    "# submission.to_csv('average_blending.csv')"
   ]
  },
  {
   "cell_type": "code",
   "execution_count": null,
   "metadata": {},
   "outputs": [],
   "source": []
  },
  {
   "cell_type": "markdown",
   "metadata": {},
   "source": [
    "# stacking"
   ]
  },
  {
   "cell_type": "markdown",
   "metadata": {},
   "source": [
    "## - create new features sets"
   ]
  },
  {
   "cell_type": "code",
   "execution_count": 22,
   "metadata": {},
   "outputs": [],
   "source": [
    "train_stack = np.vstack([\n",
    "    result_dict_rfr['oof'], result_dict_knn['oof'], result_dict_etr['oof'],\n",
    "    result_dict_adr['oof'], result_dict_nusvr['oof'], result_dict_lgb['oof'],\n",
    "    result_dict_xgb['oof'], result_dict_cat['oof']\n",
    "]).transpose()\n",
    "train_stack = pd.DataFrame(\n",
    "    train_stack,\n",
    "    columns=['rfr', 'knn', 'etr', 'adr', 'nusvr', 'lgb', 'xgb', 'cat'])\n",
    "\n",
    "test_stack = np.vstack([\n",
    "    result_dict_rfr['prediction'], result_dict_knn['prediction'],\n",
    "    result_dict_etr['prediction'], result_dict_adr['prediction'],\n",
    "    result_dict_nusvr['prediction'], result_dict_lgb['prediction'],\n",
    "    result_dict_xgb['prediction'], result_dict_cat['prediction']\n",
    "]).transpose()\n",
    "test_stack = pd.DataFrame(\n",
    "    test_stack,\n",
    "    columns=['rfr', 'knn', 'etr', 'adr', 'nusvr', 'lgb', 'xgb', 'cat'])"
   ]
  },
  {
   "cell_type": "markdown",
   "metadata": {},
   "source": [
    "## - lgm stacking"
   ]
  },
  {
   "cell_type": "code",
   "execution_count": 23,
   "metadata": {},
   "outputs": [
    {
     "name": "stdout",
     "output_type": "stream",
     "text": [
      "Best score: -2.0757141537359822\n",
      "Best parameters: {'bagging_seed': 11, 'boosting_type': 'gbdt', 'learning_rate': 0.03, 'max_depth': 8, 'metric': 'mae', 'min_child_samples': 16, 'num_leaves': 16, 'objective': 'gamma', 'reg_alpha': 0.03, 'subsample': 0.85, 'subsample_freq': 5, 'verbosity': -1}\n",
      "CPU times: user 721 ms, sys: 466 ms, total: 1.19 s\n",
      "Wall time: 1.26 s\n"
     ]
    }
   ],
   "source": [
    "%%time\n",
    "lightgmb = lgb.LGBMRegressor()\n",
    "\n",
    "# parameter_grid = {\n",
    "#     'num_leaves': [8, 16],\n",
    "#     'min_child_samples': [8, 16],\n",
    "#     'objective': ['gamma'],\n",
    "#     'max_depth': [-1],\n",
    "#     'learning_rate': [0.01, 0.03, 0.1],\n",
    "#     \"boosting_type\": ['gbdt'],\n",
    "#     \"subsample_freq\": [5],\n",
    "#     \"subsample\": [0.85],\n",
    "#     \"bagging_seed\": [11],\n",
    "#     \"metric\": ['mae'],\n",
    "#     \"verbosity\": [-1],\n",
    "#     'reg_alpha': [0.03, 0.1, 0.3],\n",
    "# }\n",
    "\n",
    "parameter_grid = {\n",
    "    'num_leaves': [16],\n",
    "    'min_child_samples': [16],\n",
    "    'objective': ['gamma'],\n",
    "    'max_depth': [4, 8],\n",
    "    'learning_rate': [0.03],\n",
    "    \"boosting_type\": ['gbdt'],\n",
    "    \"subsample_freq\": [5],\n",
    "    \"subsample\": [0.85],\n",
    "    \"bagging_seed\": [11],\n",
    "    \"metric\": ['mae'],\n",
    "    \"verbosity\": [-1],\n",
    "    'reg_alpha': [0.03],\n",
    "}\n",
    "\n",
    "grid_search = GridSearchCV(lightgmb,\n",
    "                           param_grid=parameter_grid,\n",
    "                           cv=folds,\n",
    "                           scoring='neg_mean_absolute_error',\n",
    "                           n_jobs=12)\n",
    "grid_search.fit(train_stack, y)\n",
    "print('Best score: {}'.format(grid_search.best_score_))\n",
    "print('Best parameters: {}'.format(grid_search.best_params_))"
   ]
  },
  {
   "cell_type": "code",
   "execution_count": 24,
   "metadata": {},
   "outputs": [
    {
     "name": "stdout",
     "output_type": "stream",
     "text": [
      "Fold 1 started at Thu May 30 20:39:05 2019\n",
      "Training until validation scores don't improve for 200 rounds.\n",
      "Early stopping, best iteration is:\n",
      "[140]\ttraining's l1: 1.89992\tvalid_1's l1: 2.14175\n",
      "Fold 2 started at Thu May 30 20:39:05 2019\n",
      "Training until validation scores don't improve for 200 rounds.\n",
      "Early stopping, best iteration is:\n",
      "[157]\ttraining's l1: 1.89388\tvalid_1's l1: 2.03847\n",
      "Fold 3 started at Thu May 30 20:39:05 2019\n",
      "Training until validation scores don't improve for 200 rounds.\n",
      "Early stopping, best iteration is:\n",
      "[384]\ttraining's l1: 1.77214\tvalid_1's l1: 2.02382\n",
      "Fold 4 started at Thu May 30 20:39:05 2019\n",
      "Training until validation scores don't improve for 200 rounds.\n",
      "Early stopping, best iteration is:\n",
      "[88]\ttraining's l1: 1.96015\tvalid_1's l1: 1.95033\n",
      "Fold 5 started at Thu May 30 20:39:05 2019\n",
      "Training until validation scores don't improve for 200 rounds.\n",
      "Early stopping, best iteration is:\n",
      "[145]\ttraining's l1: 1.88938\tvalid_1's l1: 2.18191\n",
      "Fold 6 started at Thu May 30 20:39:05 2019\n",
      "Training until validation scores don't improve for 200 rounds.\n",
      "Early stopping, best iteration is:\n",
      "[214]\ttraining's l1: 1.85659\tvalid_1's l1: 2.13443\n",
      "Fold 7 started at Thu May 30 20:39:05 2019\n",
      "Training until validation scores don't improve for 200 rounds.\n",
      "Early stopping, best iteration is:\n",
      "[174]\ttraining's l1: 1.9112\tvalid_1's l1: 1.95894\n",
      "Fold 8 started at Thu May 30 20:39:06 2019\n",
      "Training until validation scores don't improve for 200 rounds.\n",
      "Early stopping, best iteration is:\n",
      "[79]\ttraining's l1: 1.95858\tvalid_1's l1: 2.09826\n",
      "Fold 9 started at Thu May 30 20:39:06 2019\n",
      "Training until validation scores don't improve for 200 rounds.\n",
      "Early stopping, best iteration is:\n",
      "[82]\ttraining's l1: 1.97486\tvalid_1's l1: 1.94679\n",
      "Fold 10 started at Thu May 30 20:39:06 2019\n",
      "Training until validation scores don't improve for 200 rounds.\n",
      "Early stopping, best iteration is:\n",
      "[460]\ttraining's l1: 1.72601\tvalid_1's l1: 2.12536\n",
      "CV mean score: 2.0600, std: 0.0835.\n"
     ]
    },
    {
     "data": {
      "image/png": "[encoded data removed]",
      "text/plain": [
       "<Figure size 1152x864 with 1 Axes>"
      ]
     },
     "metadata": {
      "needs_background": "light"
     },
     "output_type": "display_data"
    }
   ],
   "source": [
    "result_dict_lgb_stack = artgor_utils.train_model_regression(\n",
    "    X=train_stack,\n",
    "    X_test=test_stack,\n",
    "    y=y,\n",
    "    params=grid_search.best_params_,\n",
    "    folds=folds,\n",
    "    model_type='lgb',\n",
    "    eval_metric='mae',\n",
    "    plot_feature_importance=True)"
   ]
  },
  {
   "cell_type": "code",
   "execution_count": null,
   "metadata": {},
   "outputs": [],
   "source": []
  },
  {
   "cell_type": "markdown",
   "metadata": {},
   "source": [
    "## - Xgboost"
   ]
  },
  {
   "cell_type": "code",
   "execution_count": 25,
   "metadata": {},
   "outputs": [
    {
     "name": "stdout",
     "output_type": "stream",
     "text": [
      "Fold 1 started at Thu May 30 20:39:06 2019\n",
      "[0]\ttrain-mae:5.06402\tvalid_data-mae:5.06316\n",
      "Multiple eval metrics have been passed: 'valid_data-mae' will be used for early stopping.\n",
      "\n",
      "Will train until valid_data-mae hasn't improved in 200 rounds.\n",
      "Stopping. Best iteration:\n",
      "[63]\ttrain-mae:2.01853\tvalid_data-mae:2.05464\n",
      "\n",
      "Fold 2 started at Thu May 30 20:39:07 2019\n",
      "[0]\ttrain-mae:5.06481\tvalid_data-mae:5.05743\n",
      "Multiple eval metrics have been passed: 'valid_data-mae' will be used for early stopping.\n",
      "\n",
      "Will train until valid_data-mae hasn't improved in 200 rounds.\n",
      "Stopping. Best iteration:\n",
      "[110]\ttrain-mae:1.9676\tvalid_data-mae:2.04935\n",
      "\n",
      "Fold 3 started at Thu May 30 20:39:07 2019\n",
      "[0]\ttrain-mae:5.08298\tvalid_data-mae:4.88872\n",
      "Multiple eval metrics have been passed: 'valid_data-mae' will be used for early stopping.\n",
      "\n",
      "Will train until valid_data-mae hasn't improved in 200 rounds.\n",
      "Stopping. Best iteration:\n",
      "[82]\ttrain-mae:1.98391\tvalid_data-mae:2.02137\n",
      "\n",
      "Fold 4 started at Thu May 30 20:39:08 2019\n",
      "[0]\ttrain-mae:5.04932\tvalid_data-mae:5.20523\n",
      "Multiple eval metrics have been passed: 'valid_data-mae' will be used for early stopping.\n",
      "\n",
      "Will train until valid_data-mae hasn't improved in 200 rounds.\n",
      "Stopping. Best iteration:\n",
      "[106]\ttrain-mae:1.97693\tvalid_data-mae:1.95691\n",
      "\n",
      "Fold 5 started at Thu May 30 20:39:08 2019\n",
      "[0]\ttrain-mae:5.05079\tvalid_data-mae:5.18818\n",
      "Multiple eval metrics have been passed: 'valid_data-mae' will be used for early stopping.\n",
      "\n",
      "Will train until valid_data-mae hasn't improved in 200 rounds.\n",
      "Stopping. Best iteration:\n",
      "[96]\ttrain-mae:1.95442\tvalid_data-mae:2.1717\n",
      "\n",
      "Fold 6 started at Thu May 30 20:39:08 2019\n",
      "[0]\ttrain-mae:5.08813\tvalid_data-mae:4.84515\n",
      "Multiple eval metrics have been passed: 'valid_data-mae' will be used for early stopping.\n",
      "\n",
      "Will train until valid_data-mae hasn't improved in 200 rounds.\n",
      "Stopping. Best iteration:\n",
      "[71]\ttrain-mae:1.99294\tvalid_data-mae:2.10585\n",
      "\n",
      "Fold 7 started at Thu May 30 20:39:09 2019\n",
      "[0]\ttrain-mae:5.06888\tvalid_data-mae:5.03097\n",
      "Multiple eval metrics have been passed: 'valid_data-mae' will be used for early stopping.\n",
      "\n",
      "Will train until valid_data-mae hasn't improved in 200 rounds.\n",
      "Stopping. Best iteration:\n",
      "[144]\ttrain-mae:1.96113\tvalid_data-mae:1.95577\n",
      "\n",
      "Fold 8 started at Thu May 30 20:39:09 2019\n",
      "[0]\ttrain-mae:5.08563\tvalid_data-mae:4.86969\n",
      "Multiple eval metrics have been passed: 'valid_data-mae' will be used for early stopping.\n",
      "\n",
      "Will train until valid_data-mae hasn't improved in 200 rounds.\n",
      "Stopping. Best iteration:\n",
      "[77]\ttrain-mae:1.98144\tvalid_data-mae:2.09578\n",
      "\n",
      "Fold 9 started at Thu May 30 20:39:10 2019\n",
      "[0]\ttrain-mae:5.05558\tvalid_data-mae:5.15003\n",
      "Multiple eval metrics have been passed: 'valid_data-mae' will be used for early stopping.\n",
      "\n",
      "Will train until valid_data-mae hasn't improved in 200 rounds.\n",
      "Stopping. Best iteration:\n",
      "[96]\ttrain-mae:1.98179\tvalid_data-mae:1.95165\n",
      "\n",
      "Fold 10 started at Thu May 30 20:39:10 2019\n",
      "[0]\ttrain-mae:5.03293\tvalid_data-mae:5.34973\n",
      "Multiple eval metrics have been passed: 'valid_data-mae' will be used for early stopping.\n",
      "\n",
      "Will train until valid_data-mae hasn't improved in 200 rounds.\n",
      "Stopping. Best iteration:\n",
      "[95]\ttrain-mae:1.96616\tvalid_data-mae:2.14537\n",
      "\n",
      "CV mean score: 2.0508, std: 0.0756.\n"
     ]
    }
   ],
   "source": [
    "xgb_params = {\n",
    "    'eta': 0.03,\n",
    "    'max_depth': 4,\n",
    "    'subsample': 0.85,\n",
    "    'colsample_bytree': 0.3,\n",
    "    'objective': 'gpu:reg:linear',\n",
    "    'eval_metric': 'mae',\n",
    "    'silent': True,\n",
    "    'tree_method': 'gpu_hist'\n",
    "}\n",
    "result_dict_xgb_stack = artgor_utils.train_model_regression(X=train_stack,\n",
    "                                                      X_test=test_stack,\n",
    "                                                      y=y,\n",
    "                                                      params=xgb_params,\n",
    "                                                      folds=folds,\n",
    "                                                      model_type='xgb')"
   ]
  },
  {
   "cell_type": "code",
   "execution_count": null,
   "metadata": {},
   "outputs": [],
   "source": []
  },
  {
   "cell_type": "markdown",
   "metadata": {},
   "source": [
    "## - cat boost"
   ]
  },
  {
   "cell_type": "code",
   "execution_count": 26,
   "metadata": {},
   "outputs": [
    {
     "name": "stdout",
     "output_type": "stream",
     "text": [
      "Fold 1 started at Thu May 30 20:39:11 2019\n",
      "Fold 2 started at Thu May 30 20:40:46 2019\n",
      "Fold 3 started at Thu May 30 20:42:23 2019\n",
      "Fold 4 started at Thu May 30 20:43:59 2019\n",
      "Fold 5 started at Thu May 30 20:45:36 2019\n",
      "Fold 6 started at Thu May 30 20:47:13 2019\n",
      "Fold 7 started at Thu May 30 20:48:49 2019\n",
      "Fold 8 started at Thu May 30 20:50:25 2019\n",
      "Fold 9 started at Thu May 30 20:52:01 2019\n",
      "Fold 10 started at Thu May 30 20:53:37 2019\n",
      "CV mean score: 2.0358, std: 0.0655.\n"
     ]
    }
   ],
   "source": [
    "params = {}\n",
    "result_dict_cat_stack = artgor_utils.train_model_regression(X=train_stack,\n",
    "                                                     X_test=test_stack,\n",
    "                                                     y=y,\n",
    "                                                     params=params,\n",
    "                                                     folds=folds,\n",
    "                                                     model_type='cat')"
   ]
  },
  {
   "cell_type": "code",
   "execution_count": null,
   "metadata": {},
   "outputs": [],
   "source": []
  },
  {
   "cell_type": "markdown",
   "metadata": {},
   "source": [
    "# light gbm final stacking"
   ]
  },
  {
   "cell_type": "markdown",
   "metadata": {},
   "source": [
    "## - create second features sets"
   ]
  },
  {
   "cell_type": "code",
   "execution_count": 27,
   "metadata": {},
   "outputs": [],
   "source": [
    "train_stack_second = np.vstack([\n",
    "    result_dict_lgb_stack['oof'], result_dict_xgb_stack['oof'], result_dict_cat_stack['oof']\n",
    "]).transpose()\n",
    "train_stack_second = pd.DataFrame(\n",
    "    train_stack,\n",
    "    columns=['lgb', 'xgb','cat'])\n",
    "\n",
    "test_stack_second = np.vstack([\n",
    "    result_dict_lgb_stack['prediction'], result_dict_xgb_stack['prediction'],\n",
    "    result_dict_cat_stack['prediction']\n",
    "]).transpose()\n",
    "test_stack_second = pd.DataFrame(\n",
    "    test_stack,\n",
    "    columns=['lgb', 'xgb','cat'])"
   ]
  },
  {
   "cell_type": "markdown",
   "metadata": {},
   "source": [
    "## - final lgb stacking"
   ]
  },
  {
   "cell_type": "code",
   "execution_count": 28,
   "metadata": {},
   "outputs": [
    {
     "name": "stdout",
     "output_type": "stream",
     "text": [
      "Best score: -2.076521735235634\n",
      "Best parameters: {'bagging_seed': 11, 'boosting_type': 'gbdt', 'learning_rate': 0.03, 'max_depth': 4, 'metric': 'mae', 'min_child_samples': 16, 'num_leaves': 16, 'objective': 'gamma', 'reg_alpha': 0.03, 'subsample': 0.85, 'subsample_freq': 5, 'verbosity': -1}\n",
      "CPU times: user 943 ms, sys: 482 ms, total: 1.43 s\n",
      "Wall time: 1.18 s\n"
     ]
    }
   ],
   "source": [
    "%%time\n",
    "lightgmb = lgb.LGBMRegressor()\n",
    "\n",
    "# parameter_grid = {\n",
    "#     'num_leaves': [4, 8,16],\n",
    "#     'min_child_samples': [8, 16],\n",
    "#     'objective': ['gamma'],\n",
    "#     'max_depth': [4, 8],\n",
    "#     'learning_rate': [0.01, 0.03],\n",
    "#     \"boosting_type\": ['gbdt'],\n",
    "#     \"subsample_freq\": [5],\n",
    "#     \"subsample\": [0.85],\n",
    "#     \"bagging_seed\": [11],\n",
    "#     \"metric\": ['mae'],\n",
    "#     \"verbosity\": [-1],\n",
    "#     'reg_alpha': [0.03, 0.1],\n",
    "# }\n",
    "\n",
    "parameter_grid = {\n",
    "    'num_leaves': [16],\n",
    "    'min_child_samples': [16],\n",
    "    'objective': ['gamma'],\n",
    "    'max_depth': [4],\n",
    "    'learning_rate': [0.03],\n",
    "    \"boosting_type\": ['gbdt'],\n",
    "    \"subsample_freq\": [5],\n",
    "    \"subsample\": [0.85],\n",
    "    \"bagging_seed\": [11],\n",
    "    \"metric\": ['mae'],\n",
    "    \"verbosity\": [-1],\n",
    "    'reg_alpha': [0.03],\n",
    "}\n",
    "\n",
    "grid_search = GridSearchCV(lightgmb,\n",
    "                           param_grid=parameter_grid,\n",
    "                           cv=folds,\n",
    "                           scoring='neg_mean_absolute_error',\n",
    "                           n_jobs=12)\n",
    "grid_search.fit(train_stack, y)\n",
    "print('Best score: {}'.format(grid_search.best_score_))\n",
    "print('Best parameters: {}'.format(grid_search.best_params_))"
   ]
  },
  {
   "cell_type": "code",
   "execution_count": 29,
   "metadata": {
    "scrolled": true
   },
   "outputs": [
    {
     "name": "stdout",
     "output_type": "stream",
     "text": [
      "Fold 1 started at Thu May 30 20:55:14 2019\n",
      "Training until validation scores don't improve for 200 rounds.\n",
      "Early stopping, best iteration is:\n",
      "[85]\ttraining's l1: 2.00243\tvalid_1's l1: 2.14943\n",
      "Fold 2 started at Thu May 30 20:55:14 2019\n",
      "Training until validation scores don't improve for 200 rounds.\n",
      "Early stopping, best iteration is:\n",
      "[202]\ttraining's l1: 1.9734\tvalid_1's l1: 2.04891\n",
      "Fold 3 started at Thu May 30 20:55:15 2019\n",
      "Training until validation scores don't improve for 200 rounds.\n",
      "Early stopping, best iteration is:\n",
      "[154]\ttraining's l1: 1.9856\tvalid_1's l1: 2.03776\n",
      "Fold 4 started at Thu May 30 20:55:15 2019\n",
      "Training until validation scores don't improve for 200 rounds.\n",
      "Early stopping, best iteration is:\n",
      "[159]\ttraining's l1: 1.98772\tvalid_1's l1: 1.97563\n",
      "Fold 5 started at Thu May 30 20:55:15 2019\n",
      "Training until validation scores don't improve for 200 rounds.\n",
      "Early stopping, best iteration is:\n",
      "[120]\ttraining's l1: 1.97678\tvalid_1's l1: 2.1727\n",
      "Fold 6 started at Thu May 30 20:55:15 2019\n",
      "Training until validation scores don't improve for 200 rounds.\n",
      "Early stopping, best iteration is:\n",
      "[151]\ttraining's l1: 1.9738\tvalid_1's l1: 2.14138\n",
      "Fold 7 started at Thu May 30 20:55:15 2019\n",
      "Training until validation scores don't improve for 200 rounds.\n",
      "Early stopping, best iteration is:\n",
      "[501]\ttraining's l1: 1.94145\tvalid_1's l1: 1.95166\n",
      "Fold 8 started at Thu May 30 20:55:15 2019\n",
      "Training until validation scores don't improve for 200 rounds.\n",
      "Early stopping, best iteration is:\n",
      "[62]\ttraining's l1: 2.03219\tvalid_1's l1: 2.10063\n",
      "Fold 9 started at Thu May 30 20:55:15 2019\n",
      "Training until validation scores don't improve for 200 rounds.\n",
      "Early stopping, best iteration is:\n",
      "[84]\ttraining's l1: 2.02259\tvalid_1's l1: 1.95344\n",
      "Fold 10 started at Thu May 30 20:55:15 2019\n",
      "Training until validation scores don't improve for 200 rounds.\n",
      "Early stopping, best iteration is:\n",
      "[589]\ttraining's l1: 1.91193\tvalid_1's l1: 2.12908\n",
      "CV mean score: 2.0661, std: 0.0801.\n"
     ]
    },
    {
     "data": {
      "image/png": "[encoded data removed]",
      "text/plain": [
       "<Figure size 1152x864 with 1 Axes>"
      ]
     },
     "metadata": {
      "needs_background": "light"
     },
     "output_type": "display_data"
    }
   ],
   "source": [
    "# lightgmb = lgb.LGBMRegressor(**grid_search.best_params_)\n",
    "result_dict_lgb_stack_final = artgor_utils.train_model_regression(\n",
    "    X=train_stack_second,\n",
    "    X_test=test_stack_second,\n",
    "    y=y,\n",
    "    params=grid_search.best_params_,\n",
    "    folds=folds,\n",
    "    model_type='lgb',\n",
    "    eval_metric='mae',\n",
    "    plot_feature_importance=True)"
   ]
  },
  {
   "cell_type": "code",
   "execution_count": null,
   "metadata": {},
   "outputs": [],
   "source": []
  },
  {
   "cell_type": "markdown",
   "metadata": {},
   "source": [
    "# submission"
   ]
  },
  {
   "cell_type": "code",
   "execution_count": 31,
   "metadata": {},
   "outputs": [
    {
     "name": "stdout",
     "output_type": "stream",
     "text": [
      "              time_to_failure\n",
      "seg_id                       \n",
      "seg_00030f  4.267259972785196\n",
      "seg_0012b5  5.029523794210354\n",
      "seg_00184e  6.569277296428465\n",
      "seg_003339  8.940609892683160\n",
      "seg_0042cc  7.367290387128358\n"
     ]
    }
   ],
   "source": [
    "submission['time_to_failure'] = result_dict_lgb_stack_final['prediction']\n",
    "print(submission.head())\n",
    "submission.to_csv('two-stackings-seed-2021.csv')"
   ]
  },
  {
   "cell_type": "code",
   "execution_count": null,
   "metadata": {},
   "outputs": [],
   "source": []
  },
  {
   "cell_type": "code",
   "execution_count": null,
   "metadata": {},
   "outputs": [],
   "source": []
  },
  {
   "cell_type": "code",
   "execution_count": null,
   "metadata": {},
   "outputs": [],
   "source": []
  },
  {
   "cell_type": "code",
   "execution_count": null,
   "metadata": {},
   "outputs": [],
   "source": []
  }
 ],
 "metadata": {
  "kernelspec": {
   "display_name": "Python 3",
   "language": "python",
   "name": "python3"
  },
  "language_info": {
   "codemirror_mode": {
    "name": "ipython",
    "version": 3
   },
   "file_extension": ".py",
   "mimetype": "text/x-python",
   "name": "python",
   "nbconvert_exporter": "python",
   "pygments_lexer": "ipython3",
   "version": "3.7.3"
  }
 },
 "nbformat": 4,
 "nbformat_minor": 2
}
