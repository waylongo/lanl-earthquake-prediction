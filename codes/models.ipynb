{
 "cells": [
  {
   "cell_type": "code",
   "execution_count": 1,
   "metadata": {},
   "outputs": [],
   "source": [
    "import numpy as np\n",
    "import pandas as pd\n",
    "import os\n",
    "\n",
    "import matplotlib.pyplot as plt\n",
    "%matplotlib inline\n",
    "from tqdm import tqdm_notebook\n",
    "from sklearn.preprocessing import StandardScaler\n",
    "from sklearn.svm import NuSVR, SVR\n",
    "from sklearn.metrics import mean_absolute_error\n",
    "\n",
    "import lightgbm as lgb\n",
    "import xgboost as xgb\n",
    "import time\n",
    "import datetime\n",
    "from catboost import CatBoostRegressor\n",
    "from sklearn.preprocessing import LabelEncoder\n",
    "from sklearn.model_selection import StratifiedKFold, KFold, RepeatedKFold\n",
    "from sklearn.metrics import mean_absolute_error\n",
    "from sklearn.linear_model import LinearRegression\n",
    "import gc\n",
    "import seaborn as sns\n",
    "import warnings\n",
    "warnings.filterwarnings(\"ignore\")\n",
    "\n",
    "from scipy.signal import hilbert\n",
    "from scipy.signal import hann\n",
    "from scipy.signal import convolve\n",
    "from scipy import stats\n",
    "from sklearn.kernel_ridge import KernelRidge\n",
    "\n",
    "import artgor_utils"
   ]
  },
  {
   "cell_type": "code",
   "execution_count": 2,
   "metadata": {},
   "outputs": [
    {
     "name": "stdout",
     "output_type": "stream",
     "text": [
      "(4194, 1035)\n",
      "(2624, 1035)\n",
      "(4194, 1)\n"
     ]
    }
   ],
   "source": [
    "# X_tr = pd.read_csv('./features/train_features.csv')\n",
    "# X_test = pd.read_csv('./features/test_features.csv')\n",
    "# y_tr = pd.read_csv('./features/train_features_label.csv')\n",
    "X_tr = pd.read_csv('../input/combined_train_features.csv')\n",
    "X_test = pd.read_csv('../input/combined_test_features.csv')\n",
    "y_tr = pd.read_csv('../input/combined_y.csv')\n",
    "print(X_tr.shape)\n",
    "print(X_test.shape)\n",
    "print(y_tr.shape)"
   ]
  },
  {
   "cell_type": "code",
   "execution_count": 3,
   "metadata": {},
   "outputs": [],
   "source": [
    "scaler = StandardScaler()\n",
    "scaler.fit(X_tr)\n",
    "X_train_scaled = pd.DataFrame(scaler.transform(X_tr), columns=X_tr.columns)\n",
    "X_test_scaled = pd.DataFrame(scaler.transform(X_test), columns=X_test.columns)"
   ]
  },
  {
   "cell_type": "markdown",
   "metadata": {},
   "source": [
    "---"
   ]
  },
  {
   "cell_type": "markdown",
   "metadata": {},
   "source": [
    "## define functions"
   ]
  },
  {
   "cell_type": "code",
   "execution_count": 4,
   "metadata": {},
   "outputs": [],
   "source": [
    "n_fold = 10\n",
    "folds = KFold(n_splits=n_fold, shuffle=True, random_state=2019)"
   ]
  },
  {
   "cell_type": "code",
   "execution_count": 5,
   "metadata": {},
   "outputs": [],
   "source": [
    "def train_model(X=X_train_scaled, X_test=X_test_scaled, y=y_tr, params=None, folds=folds, model_type='lgb', plot_feature_importance=False, model=None):\n",
    "\n",
    "    oof = np.zeros(len(X))\n",
    "    prediction = np.zeros(len(X_test))\n",
    "    scores = []\n",
    "    feature_importance = pd.DataFrame()\n",
    "    for fold_n, (train_index, valid_index) in enumerate(folds.split(X)):\n",
    "        print('Fold', fold_n, 'started at', time.ctime())\n",
    "        X_train, X_valid = X.iloc[train_index], X.iloc[valid_index]\n",
    "        y_train, y_valid = y.iloc[train_index], y.iloc[valid_index]\n",
    "        \n",
    "        if model_type == 'lgb':\n",
    "            model = lgb.LGBMRegressor(**params, n_estimators = 50000, n_jobs = 8)\n",
    "            model.fit(X_train, y_train, \n",
    "                    eval_set=[(X_train, y_train), (X_valid, y_valid)], eval_metric='mae',\n",
    "                    verbose=10000, early_stopping_rounds=200)\n",
    "            \n",
    "            y_pred_valid = model.predict(X_valid)\n",
    "            y_pred = model.predict(X_test, num_iteration=model.best_iteration_)\n",
    "            \n",
    "        if model_type == 'xgb':\n",
    "            train_data = xgb.DMatrix(data=X_train, label=y_train, feature_names=X.columns)\n",
    "            valid_data = xgb.DMatrix(data=X_valid, label=y_valid, feature_names=X.columns)\n",
    "\n",
    "            watchlist = [(train_data, 'train'), (valid_data, 'valid_data')]\n",
    "            model = xgb.train(dtrain=train_data, num_boost_round=5000, evals=watchlist, early_stopping_rounds=200, verbose_eval=500, params=params)\n",
    "            y_pred_valid = model.predict(xgb.DMatrix(X_valid, feature_names=X.columns), ntree_limit=model.best_ntree_limit)\n",
    "            y_pred = model.predict(xgb.DMatrix(X_test, feature_names=X.columns), ntree_limit=model.best_ntree_limit)\n",
    "        \n",
    "        if model_type == 'sklearn':\n",
    "            model = model\n",
    "            model.fit(X_train, y_train)\n",
    "            \n",
    "            y_pred_valid = model.predict(X_valid).reshape(-1,)\n",
    "            score = mean_absolute_error(y_valid, y_pred_valid)\n",
    "            print(f'Fold {fold_n}. MAE: {score:.4f}.')\n",
    "            print('')\n",
    "            \n",
    "            y_pred = model.predict(X_test).reshape(-1,)\n",
    "        \n",
    "        if model_type == 'cat':\n",
    "            model = CatBoostRegressor(iterations=20000,  eval_metric='MAE', task_type='GPU',**params)\n",
    "            model.fit(X_train, y_train, eval_set=(X_valid, y_valid), cat_features=[], use_best_model=True, verbose=False)\n",
    "\n",
    "            y_pred_valid = model.predict(X_valid)\n",
    "            y_pred = model.predict(X_test)\n",
    "        \n",
    "        oof[valid_index] = y_pred_valid.reshape(-1,)\n",
    "        scores.append(mean_absolute_error(y_valid, y_pred_valid))\n",
    "\n",
    "        prediction += y_pred    \n",
    "        \n",
    "        if model_type == 'lgb':\n",
    "            # feature importance\n",
    "            fold_importance = pd.DataFrame()\n",
    "            fold_importance[\"feature\"] = X.columns\n",
    "            fold_importance[\"importance\"] = model.feature_importances_\n",
    "            fold_importance[\"fold\"] = fold_n + 1\n",
    "            feature_importance = pd.concat([feature_importance, fold_importance], axis=0)\n",
    "\n",
    "    prediction /= n_fold\n",
    "    \n",
    "    print('CV mean score: {0:.4f}, std: {1:.4f}.'.format(np.mean(scores), np.std(scores)))\n",
    "    \n",
    "    if model_type == 'lgb':\n",
    "        feature_importance[\"importance\"] /= n_fold\n",
    "        if plot_feature_importance:\n",
    "            cols = feature_importance[[\"feature\", \"importance\"]].groupby(\"feature\").mean().sort_values(\n",
    "                by=\"importance\", ascending=False)[:50].index\n",
    "\n",
    "            best_features = feature_importance.loc[feature_importance.feature.isin(cols)]\n",
    "\n",
    "            plt.figure(figsize=(16, 12));\n",
    "            sns.barplot(x=\"importance\", y=\"feature\", data=best_features.sort_values(by=\"importance\", ascending=False));\n",
    "            plt.title('LGB Features (avg over folds)');\n",
    "        \n",
    "            return oof, prediction, feature_importance\n",
    "        return oof, prediction\n",
    "    \n",
    "    else:\n",
    "        return oof, prediction"
   ]
  },
  {
   "cell_type": "markdown",
   "metadata": {},
   "source": [
    "## XGBoost"
   ]
  },
  {
   "cell_type": "code",
   "execution_count": 6,
   "metadata": {},
   "outputs": [
    {
     "name": "stdout",
     "output_type": "stream",
     "text": [
      "Fold 0 started at Sat May 25 17:57:00 2019\n",
      "[0]\ttrain-mae:5.09466\tvalid_data-mae:4.78411\n",
      "Multiple eval metrics have been passed: 'valid_data-mae' will be used for early stopping.\n",
      "\n",
      "Will train until valid_data-mae hasn't improved in 200 rounds.\n",
      "Stopping. Best iteration:\n",
      "[92]\ttrain-mae:1.38858\tvalid_data-mae:1.93877\n",
      "\n",
      "Fold 1 started at Sat May 25 17:57:05 2019\n",
      "[0]\ttrain-mae:5.06098\tvalid_data-mae:5.08403\n",
      "Multiple eval metrics have been passed: 'valid_data-mae' will be used for early stopping.\n",
      "\n",
      "Will train until valid_data-mae hasn't improved in 200 rounds.\n",
      "Stopping. Best iteration:\n",
      "[76]\ttrain-mae:1.46893\tvalid_data-mae:2.11538\n",
      "\n",
      "Fold 2 started at Sat May 25 17:57:10 2019\n",
      "[0]\ttrain-mae:5.06323\tvalid_data-mae:5.06113\n",
      "Multiple eval metrics have been passed: 'valid_data-mae' will be used for early stopping.\n",
      "\n",
      "Will train until valid_data-mae hasn't improved in 200 rounds.\n",
      "Stopping. Best iteration:\n",
      "[89]\ttrain-mae:1.40655\tvalid_data-mae:2.04808\n",
      "\n",
      "Fold 3 started at Sat May 25 17:57:15 2019\n",
      "[0]\ttrain-mae:5.05557\tvalid_data-mae:5.11985\n",
      "Multiple eval metrics have been passed: 'valid_data-mae' will be used for early stopping.\n",
      "\n",
      "Will train until valid_data-mae hasn't improved in 200 rounds.\n",
      "Stopping. Best iteration:\n",
      "[78]\ttrain-mae:1.46856\tvalid_data-mae:2.10835\n",
      "\n",
      "Fold 4 started at Sat May 25 17:57:19 2019\n",
      "[0]\ttrain-mae:5.03663\tvalid_data-mae:5.29581\n",
      "Multiple eval metrics have been passed: 'valid_data-mae' will be used for early stopping.\n",
      "\n",
      "Will train until valid_data-mae hasn't improved in 200 rounds.\n",
      "Stopping. Best iteration:\n",
      "[106]\ttrain-mae:1.30145\tvalid_data-mae:2.08228\n",
      "\n",
      "Fold 5 started at Sat May 25 17:57:24 2019\n",
      "[0]\ttrain-mae:5.07207\tvalid_data-mae:4.98207\n",
      "Multiple eval metrics have been passed: 'valid_data-mae' will be used for early stopping.\n",
      "\n",
      "Will train until valid_data-mae hasn't improved in 200 rounds.\n",
      "Stopping. Best iteration:\n",
      "[100]\ttrain-mae:1.34244\tvalid_data-mae:2.02477\n",
      "\n",
      "Fold 6 started at Sat May 25 17:57:29 2019\n",
      "[0]\ttrain-mae:5.02334\tvalid_data-mae:5.41924\n",
      "Multiple eval metrics have been passed: 'valid_data-mae' will be used for early stopping.\n",
      "\n",
      "Will train until valid_data-mae hasn't improved in 200 rounds.\n",
      "Stopping. Best iteration:\n",
      "[279]\ttrain-mae:0.735477\tvalid_data-mae:2.12674\n",
      "\n",
      "Fold 7 started at Sat May 25 17:57:37 2019\n",
      "[0]\ttrain-mae:5.07694\tvalid_data-mae:4.93885\n",
      "Multiple eval metrics have been passed: 'valid_data-mae' will be used for early stopping.\n",
      "\n",
      "Will train until valid_data-mae hasn't improved in 200 rounds.\n",
      "Stopping. Best iteration:\n",
      "[82]\ttrain-mae:1.43064\tvalid_data-mae:2.12095\n",
      "\n",
      "Fold 8 started at Sat May 25 17:57:42 2019\n",
      "[0]\ttrain-mae:5.0759\tvalid_data-mae:4.95583\n",
      "Multiple eval metrics have been passed: 'valid_data-mae' will be used for early stopping.\n",
      "\n",
      "Will train until valid_data-mae hasn't improved in 200 rounds.\n",
      "Stopping. Best iteration:\n",
      "[103]\ttrain-mae:1.31761\tvalid_data-mae:2.03395\n",
      "\n",
      "Fold 9 started at Sat May 25 17:57:47 2019\n",
      "[0]\ttrain-mae:5.06662\tvalid_data-mae:5.02621\n",
      "Multiple eval metrics have been passed: 'valid_data-mae' will be used for early stopping.\n",
      "\n",
      "Will train until valid_data-mae hasn't improved in 200 rounds.\n",
      "Stopping. Best iteration:\n",
      "[147]\ttrain-mae:1.10723\tvalid_data-mae:2.10492\n",
      "\n",
      "CV mean score: 2.0704, std: 0.0564.\n"
     ]
    }
   ],
   "source": [
    "xgb_params = {'eta': 0.03,\n",
    "              'max_depth': 6,\n",
    "              'subsample': 0.8,\n",
    "              'objective': 'gpu:reg:linear',\n",
    "              'eval_metric': 'mae',\n",
    "              'silent': True,\n",
    "#               'nthread': 4,\n",
    "             'tree_method':'gpu_hist'}\n",
    "oof_xgb, prediction_xgb = train_model(X=X_train_scaled, X_test=X_test_scaled, params=xgb_params, model_type='xgb')"
   ]
  },
  {
   "cell_type": "markdown",
   "metadata": {},
   "source": [
    "## light gbm"
   ]
  },
  {
   "cell_type": "code",
   "execution_count": 7,
   "metadata": {},
   "outputs": [
    {
     "name": "stdout",
     "output_type": "stream",
     "text": [
      "Fold 0 started at Sat May 25 17:57:53 2019\n",
      "Training until validation scores don't improve for 200 rounds.\n",
      "Early stopping, best iteration is:\n",
      "[295]\ttraining's l1: 1.42883\tvalid_1's l1: 1.93741\n",
      "Fold 1 started at Sat May 25 17:58:03 2019\n",
      "Training until validation scores don't improve for 200 rounds.\n",
      "Early stopping, best iteration is:\n",
      "[431]\ttraining's l1: 1.12349\tvalid_1's l1: 2.07061\n",
      "Fold 2 started at Sat May 25 17:58:16 2019\n",
      "Training until validation scores don't improve for 200 rounds.\n",
      "Early stopping, best iteration is:\n",
      "[548]\ttraining's l1: 0.92577\tvalid_1's l1: 2.04332\n",
      "Fold 3 started at Sat May 25 17:58:31 2019\n",
      "Training until validation scores don't improve for 200 rounds.\n",
      "Early stopping, best iteration is:\n",
      "[300]\ttraining's l1: 1.40072\tvalid_1's l1: 2.09351\n",
      "Fold 4 started at Sat May 25 17:58:41 2019\n",
      "Training until validation scores don't improve for 200 rounds.\n",
      "Early stopping, best iteration is:\n",
      "[642]\ttraining's l1: 0.794125\tvalid_1's l1: 2.05018\n",
      "Fold 5 started at Sat May 25 17:58:58 2019\n",
      "Training until validation scores don't improve for 200 rounds.\n",
      "Early stopping, best iteration is:\n",
      "[363]\ttraining's l1: 1.26848\tvalid_1's l1: 1.98532\n",
      "Fold 6 started at Sat May 25 17:59:10 2019\n",
      "Training until validation scores don't improve for 200 rounds.\n",
      "Early stopping, best iteration is:\n",
      "[757]\ttraining's l1: 0.651203\tvalid_1's l1: 2.08576\n",
      "Fold 7 started at Sat May 25 17:59:28 2019\n",
      "Training until validation scores don't improve for 200 rounds.\n",
      "Early stopping, best iteration is:\n",
      "[415]\ttraining's l1: 1.15668\tvalid_1's l1: 2.10476\n",
      "Fold 8 started at Sat May 25 17:59:40 2019\n",
      "Training until validation scores don't improve for 200 rounds.\n",
      "Early stopping, best iteration is:\n",
      "[355]\ttraining's l1: 1.28041\tvalid_1's l1: 2.03327\n",
      "Fold 9 started at Sat May 25 17:59:51 2019\n",
      "Training until validation scores don't improve for 200 rounds.\n",
      "Early stopping, best iteration is:\n",
      "[505]\ttraining's l1: 0.99438\tvalid_1's l1: 2.10215\n",
      "CV mean score: 2.0506, std: 0.0515.\n"
     ]
    },
    {
     "data": {
      "image/png": "[encoded data removed]",
      "text/plain": [
       "<Figure size 1152x864 with 1 Axes>"
      ]
     },
     "metadata": {
      "needs_background": "light"
     },
     "output_type": "display_data"
    }
   ],
   "source": [
    "params = {\n",
    "    'num_leaves': 128,\n",
    "    'min_data_in_leaf': 60,\n",
    "    'objective': 'huber',\n",
    "    'max_depth': -1,\n",
    "    'learning_rate': 0.03,\n",
    "    \"boosting\": \"gbdt\",\n",
    "    \"bagging_freq\": 5,\n",
    "    \"bagging_fraction\": 0.8,\n",
    "    \"bagging_seed\": 2019,\n",
    "    \"metric\": 'mae',\n",
    "    \"verbosity\": 1,\n",
    "    'reg_alpha': 0.1,\n",
    "    'reg_lambda': 0.1,\n",
    "#     'device': 'gpu',\n",
    "#     'gpu_platform_id': 0,\n",
    "#     'gpu_device_id': 0\n",
    "}\n",
    "oof_lgb, prediction_lgb, feature_importance = train_model(\n",
    "    params=params, model_type='lgb', plot_feature_importance=True)"
   ]
  },
  {
   "cell_type": "code",
   "execution_count": 8,
   "metadata": {},
   "outputs": [],
   "source": [
    "# top_cols = list(feature_importance[[\"feature\", \"importance\"]].groupby(\"feature\").mean().sort_values(\n",
    "#                 by=\"importance\", ascending=False)[:50].index)\n",
    "# Taking less columns seriously decreases score.\n",
    "# X_train_scaled = X_train_scaled[top_cols]\n",
    "# X_test_scaled = X_test_scaled[top_cols]\n",
    "\n",
    "# oof_lgb, prediction_lgb, feature_importance = train_model(X=X_train_scaled, X_test=X_test_scaled, params=params, model_type='lgb', plot_feature_importance=True)"
   ]
  },
  {
   "cell_type": "markdown",
   "metadata": {},
   "source": [
    "##  NuSVR"
   ]
  },
  {
   "cell_type": "code",
   "execution_count": 9,
   "metadata": {},
   "outputs": [
    {
     "name": "stdout",
     "output_type": "stream",
     "text": [
      "Fold 0 started at Sat May 25 18:00:06 2019\n",
      "Fold 0. MAE: 2.0608.\n",
      "\n",
      "Fold 1 started at Sat May 25 18:00:33 2019\n",
      "Fold 1. MAE: 2.1485.\n",
      "\n",
      "Fold 2 started at Sat May 25 18:00:59 2019\n",
      "Fold 2. MAE: 2.0468.\n",
      "\n",
      "Fold 3 started at Sat May 25 18:01:26 2019\n",
      "Fold 3. MAE: 2.2068.\n",
      "\n",
      "Fold 4 started at Sat May 25 18:01:52 2019\n",
      "Fold 4. MAE: 2.2431.\n",
      "\n",
      "Fold 5 started at Sat May 25 18:02:19 2019\n",
      "Fold 5. MAE: 2.2218.\n",
      "\n",
      "Fold 6 started at Sat May 25 18:02:45 2019\n",
      "Fold 6. MAE: 2.1851.\n",
      "\n",
      "Fold 7 started at Sat May 25 18:03:12 2019\n",
      "Fold 7. MAE: 2.2046.\n",
      "\n",
      "Fold 8 started at Sat May 25 18:03:38 2019\n",
      "Fold 8. MAE: 2.1702.\n",
      "\n",
      "Fold 9 started at Sat May 25 18:04:05 2019\n",
      "Fold 9. MAE: 2.2277.\n",
      "\n",
      "CV mean score: 2.1715, std: 0.0646.\n"
     ]
    }
   ],
   "source": [
    "model = NuSVR(gamma='scale', nu=0.9, C=10.0, tol=0.01)\n",
    "oof_svr, prediction_svr = train_model(X=X_train_scaled, X_test=X_test_scaled, params=None, model_type='sklearn', model=model)"
   ]
  },
  {
   "cell_type": "code",
   "execution_count": 10,
   "metadata": {},
   "outputs": [
    {
     "name": "stdout",
     "output_type": "stream",
     "text": [
      "Fold 0 started at Sat May 25 18:04:32 2019\n",
      "Fold 0. MAE: 1.9874.\n",
      "\n",
      "Fold 1 started at Sat May 25 18:04:52 2019\n",
      "Fold 1. MAE: 2.1192.\n",
      "\n",
      "Fold 2 started at Sat May 25 18:05:12 2019\n",
      "Fold 2. MAE: 2.0008.\n",
      "\n",
      "Fold 3 started at Sat May 25 18:05:33 2019\n",
      "Fold 3. MAE: 2.1450.\n",
      "\n",
      "Fold 4 started at Sat May 25 18:05:53 2019\n",
      "Fold 4. MAE: 2.1710.\n",
      "\n",
      "Fold 5 started at Sat May 25 18:06:13 2019\n",
      "Fold 5. MAE: 2.0377.\n",
      "\n",
      "Fold 6 started at Sat May 25 18:06:34 2019\n",
      "Fold 6. MAE: 2.1891.\n",
      "\n",
      "Fold 7 started at Sat May 25 18:06:54 2019\n",
      "Fold 7. MAE: 2.1463.\n",
      "\n",
      "Fold 8 started at Sat May 25 18:07:15 2019\n",
      "Fold 8. MAE: 2.1212.\n",
      "\n",
      "Fold 9 started at Sat May 25 18:07:35 2019\n",
      "Fold 9. MAE: 2.1697.\n",
      "\n",
      "CV mean score: 2.1087, std: 0.0696.\n"
     ]
    }
   ],
   "source": [
    "model = NuSVR(gamma='scale', nu=0.7, tol=0.01, C=1.0)\n",
    "oof_svr1, prediction_svr1 = train_model(X=X_train_scaled, X_test=X_test_scaled, params=None, model_type='sklearn', model=model)"
   ]
  },
  {
   "cell_type": "markdown",
   "metadata": {},
   "source": [
    "## Catboost"
   ]
  },
  {
   "cell_type": "code",
   "execution_count": 11,
   "metadata": {},
   "outputs": [
    {
     "name": "stdout",
     "output_type": "stream",
     "text": [
      "Fold 0 started at Sat May 25 18:07:55 2019\n",
      "Fold 1 started at Sat May 25 18:19:17 2019\n",
      "Fold 2 started at Sat May 25 18:30:43 2019\n",
      "Fold 3 started at Sat May 25 18:42:01 2019\n",
      "Fold 4 started at Sat May 25 18:53:28 2019\n",
      "Fold 5 started at Sat May 25 19:04:53 2019\n",
      "Fold 6 started at Sat May 25 19:16:11 2019\n",
      "Fold 7 started at Sat May 25 19:27:15 2019\n",
      "Fold 8 started at Sat May 25 19:38:35 2019\n",
      "Fold 9 started at Sat May 25 19:49:57 2019\n",
      "CV mean score: 2.0301, std: 0.0561.\n"
     ]
    }
   ],
   "source": [
    "params = {'loss_function':'MAE'}\n",
    "oof_cat, prediction_cat = train_model(X=X_train_scaled, X_test=X_test_scaled, params=params, model_type='cat')"
   ]
  },
  {
   "cell_type": "markdown",
   "metadata": {},
   "source": [
    "## Kernel Ridge"
   ]
  },
  {
   "cell_type": "code",
   "execution_count": 17,
   "metadata": {},
   "outputs": [
    {
     "name": "stdout",
     "output_type": "stream",
     "text": [
      "Fold 0 started at Sun May 26 16:30:20 2019\n",
      "Fold 0. MAE: 3.4756.\n",
      "\n",
      "Fold 1 started at Sun May 26 16:30:21 2019\n",
      "Fold 1. MAE: 3.8303.\n",
      "\n",
      "Fold 2 started at Sun May 26 16:30:22 2019\n",
      "Fold 2. MAE: 3.6497.\n",
      "\n",
      "Fold 3 started at Sun May 26 16:30:23 2019\n",
      "Fold 3. MAE: 3.8815.\n",
      "\n",
      "Fold 4 started at Sun May 26 16:30:24 2019\n",
      "Fold 4. MAE: 3.9424.\n",
      "\n",
      "Fold 5 started at Sun May 26 16:30:25 2019\n",
      "Fold 5. MAE: 3.6857.\n",
      "\n",
      "Fold 6 started at Sun May 26 16:30:26 2019\n",
      "Fold 6. MAE: 3.9702.\n",
      "\n",
      "Fold 7 started at Sun May 26 16:30:27 2019\n",
      "Fold 7. MAE: 3.7555.\n",
      "\n",
      "Fold 8 started at Sun May 26 16:30:27 2019\n",
      "Fold 8. MAE: 3.7099.\n",
      "\n",
      "Fold 9 started at Sun May 26 16:30:28 2019\n",
      "Fold 9. MAE: 3.7118.\n",
      "\n",
      "CV mean score: 3.7613, std: 0.1416.\n"
     ]
    }
   ],
   "source": [
    "model = KernelRidge(kernel='rbf', alpha=0.1, gamma=0.01)\n",
    "oof_r, prediction_r = train_model(X=X_train_scaled, X_test=X_test_scaled, params=None, model_type='sklearn', model=model)"
   ]
  },
  {
   "cell_type": "markdown",
   "metadata": {},
   "source": [
    "# Stackig"
   ]
  },
  {
   "cell_type": "code",
   "execution_count": 18,
   "metadata": {},
   "outputs": [],
   "source": [
    "train_stack = np.vstack([oof_lgb, oof_xgb, oof_svr, oof_svr1, oof_cat]).transpose()\n",
    "train_stack = pd.DataFrame(train_stack, columns = ['lgb', 'xgb', 'svr', 'svr1', 'cat'])\n",
    "test_stack = np.vstack([prediction_lgb, prediction_xgb, prediction_svr, prediction_svr1, prediction_cat]).transpose()\n",
    "test_stack = pd.DataFrame(test_stack)"
   ]
  },
  {
   "cell_type": "code",
   "execution_count": 19,
   "metadata": {},
   "outputs": [
    {
     "name": "stdout",
     "output_type": "stream",
     "text": [
      "Fold 0 started at Sun May 26 16:31:45 2019\n",
      "Training until validation scores don't improve for 200 rounds.\n",
      "Early stopping, best iteration is:\n",
      "[23]\ttraining's l2: 6.08453\ttraining's l1: 1.94301\tvalid_1's l2: 7.01016\tvalid_1's l1: 2.01581\n",
      "Fold 1 started at Sun May 26 16:31:45 2019\n",
      "Training until validation scores don't improve for 200 rounds.\n",
      "Early stopping, best iteration is:\n",
      "[35]\ttraining's l2: 5.62779\ttraining's l1: 1.84557\tvalid_1's l2: 7.6376\tvalid_1's l1: 2.13576\n",
      "Fold 2 started at Sun May 26 16:31:45 2019\n",
      "Training until validation scores don't improve for 200 rounds.\n",
      "Early stopping, best iteration is:\n",
      "[25]\ttraining's l2: 6.01437\ttraining's l1: 1.91139\tvalid_1's l2: 6.87764\tvalid_1's l1: 2.11203\n",
      "Fold 3 started at Sun May 26 16:31:45 2019\n",
      "Training until validation scores don't improve for 200 rounds.\n",
      "Early stopping, best iteration is:\n",
      "[20]\ttraining's l2: 6.18156\ttraining's l1: 1.95561\tvalid_1's l2: 7.57023\tvalid_1's l1: 2.13311\n",
      "Fold 4 started at Sun May 26 16:31:45 2019\n",
      "Training until validation scores don't improve for 200 rounds.\n",
      "Early stopping, best iteration is:\n",
      "[24]\ttraining's l2: 5.99622\ttraining's l1: 1.92339\tvalid_1's l2: 7.45231\tvalid_1's l1: 2.11774\n",
      "Fold 5 started at Sun May 26 16:31:45 2019\n",
      "Training until validation scores don't improve for 200 rounds.\n",
      "Early stopping, best iteration is:\n",
      "[20]\ttraining's l2: 6.23604\ttraining's l1: 1.96725\tvalid_1's l2: 7.40824\tvalid_1's l1: 2.08769\n",
      "Fold 6 started at Sun May 26 16:31:46 2019\n",
      "Training until validation scores don't improve for 200 rounds.\n",
      "Early stopping, best iteration is:\n",
      "[24]\ttraining's l2: 5.98945\ttraining's l1: 1.91828\tvalid_1's l2: 7.478\tvalid_1's l1: 2.16162\n",
      "Fold 7 started at Sun May 26 16:31:46 2019\n",
      "Training until validation scores don't improve for 200 rounds.\n",
      "Early stopping, best iteration is:\n",
      "[22]\ttraining's l2: 6.07015\ttraining's l1: 1.93507\tvalid_1's l2: 7.60696\tvalid_1's l1: 2.15865\n",
      "Fold 8 started at Sun May 26 16:31:46 2019\n",
      "Training until validation scores don't improve for 200 rounds.\n",
      "Early stopping, best iteration is:\n",
      "[25]\ttraining's l2: 5.95428\ttraining's l1: 1.91672\tvalid_1's l2: 7.68382\tvalid_1's l1: 2.08409\n",
      "Fold 9 started at Sun May 26 16:31:46 2019\n",
      "Training until validation scores don't improve for 200 rounds.\n",
      "Early stopping, best iteration is:\n",
      "[30]\ttraining's l2: 5.78126\ttraining's l1: 1.87642\tvalid_1's l2: 7.04821\tvalid_1's l1: 2.10466\n",
      "CV mean score: 2.1111, std: 0.0404.\n"
     ]
    },
    {
     "data": {
      "image/png": "[encoded data removed]",
      "text/plain": [
       "<Figure size 1152x864 with 1 Axes>"
      ]
     },
     "metadata": {
      "needs_background": "light"
     },
     "output_type": "display_data"
    }
   ],
   "source": [
    "oof_lgb_stack, prediction_lgb_stack, feature_importance = train_model(X=train_stack, X_test=test_stack, params=params, model_type='lgb', plot_feature_importance=True)"
   ]
  },
  {
   "cell_type": "code",
   "execution_count": 21,
   "metadata": {},
   "outputs": [
    {
     "name": "stdout",
     "output_type": "stream",
     "text": [
      "            time_to_failure\n",
      "seg_id                     \n",
      "seg_00030f         3.655867\n",
      "seg_0012b5         4.986849\n",
      "seg_00184e         6.092152\n",
      "seg_003339         8.979903\n",
      "seg_0042cc         7.117677\n"
     ]
    }
   ],
   "source": [
    "submission = pd.read_csv('../input/sample_submission.csv', index_col='seg_id')\n",
    "submission['time_to_failure'] = (prediction_lgb + prediction_xgb + prediction_svr + prediction_svr1 + prediction_cat) / 5\n",
    "# submission['time_to_failure'] = prediction_lgb_stack\n",
    "print(submission.head())\n",
    "submission.to_csv('../results/combined_features_blending_without_ridge.csv')"
   ]
  },
  {
   "cell_type": "code",
   "execution_count": null,
   "metadata": {},
   "outputs": [],
   "source": []
  },
  {
   "cell_type": "code",
   "execution_count": null,
   "metadata": {},
   "outputs": [],
   "source": []
  },
  {
   "cell_type": "code",
   "execution_count": null,
   "metadata": {},
   "outputs": [],
   "source": []
  },
  {
   "cell_type": "code",
   "execution_count": null,
   "metadata": {},
   "outputs": [],
   "source": []
  },
  {
   "cell_type": "code",
   "execution_count": null,
   "metadata": {},
   "outputs": [],
   "source": []
  },
  {
   "cell_type": "code",
   "execution_count": null,
   "metadata": {},
   "outputs": [],
   "source": []
  },
  {
   "cell_type": "code",
   "execution_count": null,
   "metadata": {},
   "outputs": [],
   "source": []
  }
 ],
 "metadata": {
  "kernelspec": {
   "display_name": "Python 3",
   "language": "python",
   "name": "python3"
  },
  "language_info": {
   "codemirror_mode": {
    "name": "ipython",
    "version": 3
   },
   "file_extension": ".py",
   "mimetype": "text/x-python",
   "name": "python",
   "nbconvert_exporter": "python",
   "pygments_lexer": "ipython3",
   "version": "3.7.3"
  }
 },
 "nbformat": 4,
 "nbformat_minor": 2
}
